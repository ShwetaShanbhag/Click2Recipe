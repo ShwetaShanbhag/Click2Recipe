{
 "cells": [
  {
   "cell_type": "code",
   "execution_count": 1,
   "metadata": {},
   "outputs": [],
   "source": [
    "import json\n",
    "import numpy as np\n",
    "from pprint import pprint\n",
    "idlists=[]\n",
    "data = json.load(open('layer1.json'))\n",
    "dets = json.load(open('det_ingrs.json','r'))\n",
    "idx2ind = {}"
   ]
  },
  {
   "cell_type": "code",
   "execution_count": 2,
   "metadata": {},
   "outputs": [],
   "source": [
    "from __future__ import absolute_import\n",
    "from __future__ import division\n",
    "from __future__ import print_function\n",
    "\n",
    "import collections\n",
    "import math\n",
    "import os\n",
    "import random\n",
    "from tempfile import gettempdir\n",
    "import zipfile\n",
    "\n",
    "import numpy as np\n",
    "from six.moves import urllib\n",
    "from six.moves import xrange  # pylint: disable=redefined-builtin\n",
    "import tensorflow as tf\n",
    "\n",
    "\n",
    "import numpy as np\n",
    "for i,entry in enumerate(dets):\n",
    "    idx2ind[entry['id']] = i\n",
    "partition = str('train')"
   ]
  },
  {
   "cell_type": "code",
   "execution_count": 3,
   "metadata": {},
   "outputs": [],
   "source": [
    "corpus=[]\n",
    "allingrs=[]\n",
    "idlists=[]\n",
    "num=0\n",
    "for i,entry in enumerate(data):\n",
    "    if entry['partition'] == partition:\n",
    "        ingrs=''\n",
    "        idlists.append(entry['id'])\n",
    "        det_ingrs = dets[idx2ind[entry['id']]]['ingredients']\n",
    "        valid = dets[idx2ind[entry['id']]]['valid']    \n",
    "        ingreds= entry['ingredients']\n",
    "        allingreds=''\n",
    "        for ingred in ingreds:\n",
    "            ingred =  ingred['text']\n",
    "            allingreds+=ingred +','\n",
    "\n",
    "        for j,det_ingr in enumerate(det_ingrs):\n",
    "        # if detected ingredient matches ingredient text,\n",
    "        # means it did not work. We skip\n",
    "            if not valid[j]:\n",
    "                continue\n",
    "        # underscore ingredient\n",
    "            \n",
    "            det_ingr_undrs = det_ingr['text'].replace(' ','_')\n",
    "        \n",
    "            ingrs+=det_ingr_undrs+' '\n",
    "            allingrs.append(det_ingr_undrs)\n",
    "            #allingreds = allingreds.replace(det_ingr['text'],det_ingr_undrs)\n",
    "        corpus.append(ingrs)\n",
    "        num+=1\n",
    "        if (num==30000):\n",
    "            break"
   ]
  },
  {
   "cell_type": "code",
   "execution_count": 6,
   "metadata": {},
   "outputs": [],
   "source": [
    "#to vectorize the labels\n",
    "\n",
    "\n",
    "vocabulary_size = 15000\n",
    "\n",
    "\n",
    "def build_dataset(words, n_words):\n",
    "  \"\"\"Process raw inputs into a dataset.\"\"\"\n",
    "  count = [['UNK', -1]]\n",
    "  count.extend(collections.Counter(words).most_common(n_words - 1))\n",
    "  dictionary = dict()\n",
    "  for word, _ in count:\n",
    "    dictionary[word] = len(dictionary)\n",
    "  data = list()\n",
    "  unk_count = 0\n",
    "  for word in words:\n",
    "    index = dictionary.get(word, 0)\n",
    "    if index == 0:  # dictionary['UNK']\n",
    "      unk_count += 1\n",
    "    data.append(index)\n",
    "  count[0][1] = unk_count\n",
    "  reversed_dictionary = dict(zip(dictionary.values(), dictionary.keys()))\n",
    "  return data, count, dictionary, reversed_dictionary\n",
    "\n",
    "\n",
    "\n",
    "\n",
    "databag, count, dictionary, reverse_dictionary = build_dataset(allingrs,\n",
    "                                                            vocabulary_size)"
   ]
  },
  {
   "cell_type": "code",
   "execution_count": 11,
   "metadata": {},
   "outputs": [
    {
     "name": "stdout",
     "output_type": "stream",
     "text": [
      "/home/shwetashanbhag/Project/Untitled Folder\n"
     ]
    }
   ],
   "source": [
    "\n",
    "train_labels=np.zeros((len(corpus),len(count)),dtype=int)\n",
    "startindex=0\n",
    "fileDir = os.path.dirname(os.path.realpath('__file__'))\n",
    "print (fileDir)\n",
    "for x,idx in zip(corpus,idlists):\n",
    "    filename = os.path.join(fileDir, 'image_labels_dir/'+idx+'.jpg.txt')\n",
    "    f1 = open(filename,'w')   \n",
    "    newcorpus=len(np.array(x.split(' ')))\n",
    "    for i in range(startindex,startindex+newcorpus-1):\n",
    "        f1.write(reverse_dictionary[databag[i]]+'\\n')  \n",
    "    startindex=newcorpus+1\n",
    "    f1.close()"
   ]
  },
  {
   "cell_type": "code",
   "execution_count": 17,
   "metadata": {},
   "outputs": [],
   "source": [
    "\n",
    "f2= open('labels.txt','w')\n",
    "for i in range(1,len(count)):\n",
    "    f2.write(count[i][0]+'\\n')\n",
    "f2.close()"
   ]
  },
  {
   "cell_type": "code",
   "execution_count": null,
   "metadata": {},
   "outputs": [],
   "source": []
  }
 ],
 "metadata": {
  "kernelspec": {
   "display_name": "Python 3",
   "language": "python",
   "name": "python3"
  },
  "language_info": {
   "codemirror_mode": {
    "name": "ipython",
    "version": 3
   },
   "file_extension": ".py",
   "mimetype": "text/x-python",
   "name": "python",
   "nbconvert_exporter": "python",
   "pygments_lexer": "ipython3",
   "version": "3.6.1"
  }
 },
 "nbformat": 4,
 "nbformat_minor": 2
}
